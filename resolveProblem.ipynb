{
 "cells": [
  {
   "cell_type": "markdown",
   "metadata": {},
   "source": [
    "# Import libraries"
   ]
  },
  {
   "cell_type": "code",
   "execution_count": 1,
   "metadata": {},
   "outputs": [],
   "source": [
    "import ast\n",
    "import random\n",
    "import math\n"
   ]
  },
  {
   "cell_type": "markdown",
   "metadata": {},
   "source": [
    "# Set parameters"
   ]
  },
  {
   "cell_type": "code",
   "execution_count": 2,
   "metadata": {},
   "outputs": [],
   "source": [
    "# file to import -> \"KP_p-X_n-Y_ins-Z.dat.\"\n",
    "p = 3 # X -> number of objective functions\n",
    "n = 10 # Y -> number of object\n",
    "instance = 3 # Z -> instance number"
   ]
  },
  {
   "cell_type": "markdown",
   "metadata": {},
   "source": [
    "# Import data"
   ]
  },
  {
   "cell_type": "code",
   "execution_count": 3,
   "metadata": {},
   "outputs": [
    {
     "name": "stdout",
     "output_type": "stream",
     "text": [
      "p : 3\n",
      "n : 10\n",
      "capacity : 2446\n",
      "profits : [(602, 747, 230), (556, 816, 870), (10, 996, 555), (52, 509, 578), (303, 700, 995), (290, 238, 596), (195, 395, 800), (264, 870, 819), (670, 236, 630), (299, 292, 504)]\n",
      "weights : [860, 900, 169, 415, 477, 163, 10, 277, 981, 640]\n"
     ]
    }
   ],
   "source": [
    "# set file name\n",
    "fileName = \"./data/KP_p-{}_n-{}_ins-{}.dat\".format(p, n, instance)\n",
    "# read file\n",
    "file = open(fileName, \"r\")\n",
    "content = file.read().splitlines()\n",
    "p = int(content[0])\n",
    "n = int(content[1])\n",
    "capacity = int(content[2])\n",
    "profits = ast.literal_eval(\"\".join(content[3:-1]))\n",
    "# invert line and column of profits\n",
    "profits = list(zip(*profits[::-1]))\n",
    "weights = ast.literal_eval(content[-1])\n",
    "print(\"p :\", p)\n",
    "print(\"n :\", n)\n",
    "print(\"capacity :\", capacity)\n",
    "print(\"profits :\",profits)\n",
    "print(\"weights :\",weights)"
   ]
  },
  {
   "cell_type": "code",
   "execution_count": null,
   "metadata": {},
   "outputs": [],
   "source": []
  },
  {
   "cell_type": "code",
   "execution_count": 4,
   "metadata": {},
   "outputs": [],
   "source": [
    "# PASA : a clever Simulated Annealing (Engrand, 98)\n",
    "def pasa(profits, weights, capacity, p, n, T, alpha, T_min):\n",
    "    # initialize\n",
    "    best_solution = []\n",
    "    best_solution_value = 0\n",
    "    current_solution = []\n",
    "    current_solution_value = 0\n",
    "    for i in range(n):\n",
    "        current_solution.append(0)\n",
    "    current_solution_value = evaluate(current_solution, profits, weights, capacity, p, n)\n",
    "    best_solution = current_solution\n",
    "    best_solution_value = current_solution_value\n",
    "    # start\n",
    "    while T > T_min:\n",
    "        for i in range(n):\n",
    "            current_solution[i] = random.randint(0, 1)\n",
    "        current_solution_value = evaluate(current_solution, profits, weights, capacity, p, n)\n",
    "        if current_solution_value > best_solution_value:\n",
    "            best_solution = current_solution\n",
    "            best_solution_value = current_solution_value\n",
    "        else:\n",
    "            delta = current_solution_value - best_solution_value\n",
    "            if delta > 0:\n",
    "                if random.random() < math.exp(-delta/T):\n",
    "                    best_solution = current_solution\n",
    "                    best_solution_value = current_solution_value\n",
    "        T = T * alpha\n",
    "    return best_solution, best_solution_value, T\n",
    "\n",
    "def evaluate(solution, profits, weights, capacity, p, n):\n",
    "    value = 0\n",
    "    weight = 0\n",
    "    for i in range(n):\n",
    "        if solution[i] == 1:\n",
    "            weight += weights[i]\n",
    "            for j in range(p):\n",
    "                value += profits[i][j]\n",
    "    if weight > capacity:\n",
    "        value = 0\n",
    "    return value\n"
   ]
  },
  {
   "cell_type": "code",
   "execution_count": 5,
   "metadata": {},
   "outputs": [
    {
     "data": {
      "text/plain": [
       "([1, 0, 0, 1, 0, 0, 1, 1, 1, 1], 10744, 0.009941992838152823)"
      ]
     },
     "execution_count": 5,
     "metadata": {},
     "output_type": "execute_result"
    }
   ],
   "source": [
    "pasa_solution = pasa(profits, weights, capacity, p, n, 100, 0.99, 0.01)\n",
    "pasa_solution"
   ]
  }
 ],
 "metadata": {
  "interpreter": {
   "hash": "43f187d08a7b233672e80b21f375ffa49d1e0713ec8f6d0daf527eb8a4289c85"
  },
  "kernelspec": {
   "display_name": "Python 3.10.0 64-bit ('3.10.0': pyenv)",
   "language": "python",
   "name": "python3"
  },
  "language_info": {
   "codemirror_mode": {
    "name": "ipython",
    "version": 3
   },
   "file_extension": ".py",
   "mimetype": "text/x-python",
   "name": "python",
   "nbconvert_exporter": "python",
   "pygments_lexer": "ipython3",
   "version": "3.10.0"
  },
  "orig_nbformat": 4
 },
 "nbformat": 4,
 "nbformat_minor": 2
}
